{
  "nbformat": 4,
  "nbformat_minor": 5,
  "metadata": {
    "kernelspec": {
      "display_name": "Python 3",
      "language": "python",
      "name": "python3"
    },
    "language_info": {
      "codemirror_mode": {
        "name": "ipython",
        "version": 3
      },
      "file_extension": ".py",
      "mimetype": "text/x-python",
      "name": "python",
      "nbconvert_exporter": "python",
      "pygments_lexer": "ipython3",
      "version": "3.7.10"
    },
    "papermill": {
      "default_parameters": {},
      "duration": 96.448328,
      "end_time": "2021-05-13T00:51:18.504888",
      "environment_variables": {},
      "exception": null,
      "input_path": "__notebook__.ipynb",
      "output_path": "__notebook__.ipynb",
      "parameters": {},
      "start_time": "2021-05-13T00:49:42.056560",
      "version": "2.3.3"
    },
    "widgets": {
      "application/vnd.jupyter.widget-state+json": {}
    },
    "colab": {
      "name": "demonstration-of-the-kalman-filter.ipynb",
      "provenance": [],
      "include_colab_link": true
    }
  },
  "cells": [
    {
      "cell_type": "markdown",
      "metadata": {
        "id": "view-in-github",
        "colab_type": "text"
      },
      "source": [
        "<a href=\"https://colab.research.google.com/github/keymc021/work/blob/master/demonstration_of_the_kalman_filter.ipynb\" target=\"_parent\"><img src=\"https://colab.research.google.com/assets/colab-badge.svg\" alt=\"Open In Colab\"/></a>"
      ]
    },
    {
      "cell_type": "markdown",
      "metadata": {
        "papermill": {
          "duration": 0.008986,
          "end_time": "2021-05-13T00:49:49.165125",
          "exception": false,
          "start_time": "2021-05-13T00:49:49.156139",
          "status": "completed"
        },
        "tags": [],
        "id": "stock-thomas"
      },
      "source": [
        "In this sample notebook it is demonstrated how to apply Kalman Filter to improve the baseline slightly\n",
        "\n",
        "The notebook is based on https://www.kaggle.com/jpmiller/baseline-from-host-data"
      ],
      "id": "stock-thomas"
    },
    {
      "cell_type": "markdown",
      "metadata": {
        "papermill": {
          "duration": 0.007683,
          "end_time": "2021-05-13T00:49:49.181026",
          "exception": false,
          "start_time": "2021-05-13T00:49:49.173343",
          "status": "completed"
        },
        "tags": [],
        "id": "structural-hughes"
      },
      "source": [
        "## ensure you have everything you need"
      ],
      "id": "structural-hughes"
    },
    {
      "cell_type": "markdown",
      "metadata": {
        "id": "JbKQG0llzw-o"
      },
      "source": [
        ""
      ],
      "id": "JbKQG0llzw-o"
    },
    {
      "cell_type": "code",
      "metadata": {
        "_cell_guid": "b1076dfc-b9ad-4769-8c92-a6c4dae69d19",
        "_uuid": "8f2839f25d086af736a60e9eeb907d3b93b6e0e5",
        "execution": {
          "iopub.execute_input": "2021-05-13T00:49:49.205738Z",
          "iopub.status.busy": "2021-05-13T00:49:49.205046Z",
          "iopub.status.idle": "2021-05-13T00:49:56.783975Z",
          "shell.execute_reply": "2021-05-13T00:49:56.783328Z"
        },
        "papermill": {
          "duration": 7.595226,
          "end_time": "2021-05-13T00:49:56.784130",
          "exception": false,
          "start_time": "2021-05-13T00:49:49.188904",
          "status": "completed"
        },
        "tags": [],
        "id": "announced-joshua",
        "outputId": "01dfba97-930c-450c-cfe0-954c6888f2cf"
      },
      "source": [
        "!pip install simdkalman"
      ],
      "id": "announced-joshua",
      "execution_count": null,
      "outputs": [
        {
          "output_type": "stream",
          "text": [
            "Collecting simdkalman\r\n",
            "  Downloading simdkalman-1.0.1-py2.py3-none-any.whl (11 kB)\r\n",
            "Requirement already satisfied: numpy>=1.9.0 in /opt/conda/lib/python3.7/site-packages (from simdkalman) (1.19.5)\r\n",
            "Installing collected packages: simdkalman\r\n",
            "Successfully installed simdkalman-1.0.1\r\n"
          ],
          "name": "stdout"
        }
      ]
    },
    {
      "cell_type": "markdown",
      "metadata": {
        "papermill": {
          "duration": 0.009784,
          "end_time": "2021-05-13T00:49:56.804532",
          "exception": false,
          "start_time": "2021-05-13T00:49:56.794748",
          "status": "completed"
        },
        "tags": [],
        "id": "speaking-fleece"
      },
      "source": [
        "Please read the documentation if you would like to learn more about this implementation of kf: https://simdkalman.readthedocs.io/en/latest/"
      ],
      "id": "speaking-fleece"
    },
    {
      "cell_type": "code",
      "metadata": {
        "execution": {
          "iopub.execute_input": "2021-05-13T00:49:56.829514Z",
          "iopub.status.busy": "2021-05-13T00:49:56.828838Z",
          "iopub.status.idle": "2021-05-13T00:49:56.837691Z",
          "shell.execute_reply": "2021-05-13T00:49:56.837088Z"
        },
        "papermill": {
          "duration": 0.023015,
          "end_time": "2021-05-13T00:49:56.837803",
          "exception": false,
          "start_time": "2021-05-13T00:49:56.814788",
          "status": "completed"
        },
        "tags": [],
        "id": "delayed-distributor"
      },
      "source": [
        "from pathlib import Path\n",
        "import numpy as np\n",
        "import pandas as pd\n",
        "import simdkalman\n",
        "from tqdm.notebook import tqdm"
      ],
      "id": "delayed-distributor",
      "execution_count": null,
      "outputs": []
    },
    {
      "cell_type": "markdown",
      "metadata": {
        "papermill": {
          "duration": 0.009788,
          "end_time": "2021-05-13T00:49:56.857475",
          "exception": false,
          "start_time": "2021-05-13T00:49:56.847687",
          "status": "completed"
        },
        "tags": [],
        "id": "interim-longer"
      },
      "source": [
        "## define kf model\n"
      ],
      "id": "interim-longer"
    },
    {
      "cell_type": "code",
      "metadata": {
        "execution": {
          "iopub.execute_input": "2021-05-13T00:49:56.885397Z",
          "iopub.status.busy": "2021-05-13T00:49:56.884579Z",
          "iopub.status.idle": "2021-05-13T00:49:56.887458Z",
          "shell.execute_reply": "2021-05-13T00:49:56.887020Z"
        },
        "papermill": {
          "duration": 0.020643,
          "end_time": "2021-05-13T00:49:56.887573",
          "exception": false,
          "start_time": "2021-05-13T00:49:56.866930",
          "status": "completed"
        },
        "tags": [],
        "id": "violent-fields"
      },
      "source": [
        "T = 1.0\n",
        "state_transition = np.array([[1, 0, T, 0, 0.5 * T ** 2, 0], [0, 1, 0, T, 0, 0.5 * T ** 2], [0, 0, 1, 0, T, 0],\n",
        "                             [0, 0, 0, 1, 0, T], [0, 0, 0, 0, 1, 0], [0, 0, 0, 0, 0, 1]])\n",
        "process_noise = np.diag([1e-5, 1e-5, 5e-6, 5e-6, 1e-6, 1e-6]) + np.ones((6, 6)) * 1e-9\n",
        "observation_model = np.array([[1, 0, 0, 0, 0, 0], [0, 1, 0, 0, 0, 0]])\n",
        "observation_noise = np.diag([5e-5, 5e-5]) + np.ones((2, 2)) * 1e-9\n",
        "\n",
        "kf = simdkalman.KalmanFilter(\n",
        "        state_transition = state_transition,\n",
        "        process_noise = process_noise,\n",
        "        observation_model = observation_model,\n",
        "        observation_noise = observation_noise)"
      ],
      "id": "violent-fields",
      "execution_count": null,
      "outputs": []
    },
    {
      "cell_type": "code",
      "metadata": {
        "execution": {
          "iopub.execute_input": "2021-05-13T00:49:56.913560Z",
          "iopub.status.busy": "2021-05-13T00:49:56.912947Z",
          "iopub.status.idle": "2021-05-13T00:49:56.914880Z",
          "shell.execute_reply": "2021-05-13T00:49:56.915252Z"
        },
        "papermill": {
          "duration": 0.018179,
          "end_time": "2021-05-13T00:49:56.915381",
          "exception": false,
          "start_time": "2021-05-13T00:49:56.897202",
          "status": "completed"
        },
        "tags": [],
        "id": "answering-admission"
      },
      "source": [
        "def apply_kf_smoothing(df, kf_=kf):\n",
        "    unique_paths = df[['collectionName', 'phoneName']].drop_duplicates().to_numpy()\n",
        "    for collection, phone in tqdm(unique_paths):\n",
        "        cond = np.logical_and(df['collectionName'] == collection, df['phoneName'] == phone)\n",
        "        data = df[cond][['latDeg', 'lngDeg']].to_numpy()\n",
        "        data = data.reshape(1, len(data), 2)\n",
        "        smoothed = kf_.smooth(data)\n",
        "        df.loc[cond, 'latDeg'] = smoothed.states.mean[0, :, 0]\n",
        "        df.loc[cond, 'lngDeg'] = smoothed.states.mean[0, :, 1]\n",
        "    return df"
      ],
      "id": "answering-admission",
      "execution_count": null,
      "outputs": []
    },
    {
      "cell_type": "markdown",
      "metadata": {
        "papermill": {
          "duration": 0.00974,
          "end_time": "2021-05-13T00:49:56.935085",
          "exception": false,
          "start_time": "2021-05-13T00:49:56.925345",
          "status": "completed"
        },
        "tags": [],
        "id": "described-savannah"
      },
      "source": [
        "## evaluate train error"
      ],
      "id": "described-savannah"
    },
    {
      "cell_type": "code",
      "metadata": {
        "execution": {
          "iopub.execute_input": "2021-05-13T00:49:56.958364Z",
          "iopub.status.busy": "2021-05-13T00:49:56.957756Z",
          "iopub.status.idle": "2021-05-13T00:50:45.440486Z",
          "shell.execute_reply": "2021-05-13T00:50:45.439822Z"
        },
        "papermill": {
          "duration": 48.495124,
          "end_time": "2021-05-13T00:50:45.440628",
          "exception": false,
          "start_time": "2021-05-13T00:49:56.945504",
          "status": "completed"
        },
        "tags": [],
        "colab": {
          "referenced_widgets": [
            "cef0e86ba3494a79b7832a8bcbecc7c0",
            "9f8245a9d95a4508a78f532dd60fca08"
          ]
        },
        "id": "afraid-astronomy",
        "outputId": "80784bfa-3348-461b-a255-2ef567511e08"
      },
      "source": [
        "data_path = Path(\"../input/google-smartphone-decimeter-challenge\")\n",
        "\n",
        "truths = (data_path / 'train').rglob('ground_truth.csv')\n",
        "    # returns a generator\n",
        "\n",
        "df_list = []\n",
        "cols = ['collectionName', 'phoneName', 'millisSinceGpsEpoch', 'latDeg', 'lngDeg']\n",
        "\n",
        "for t in tqdm(truths, total=73):\n",
        "    df_phone = pd.read_csv(t, usecols=cols)  \n",
        "    df_list.append(df_phone)\n",
        "df_truth = pd.concat(df_list, ignore_index=True)\n",
        "\n",
        "df_basepreds_kf = apply_kf_smoothing(pd.read_csv('../input/google-smartphone-decimeter-challenge/baseline_locations_train.csv', usecols=cols))\n",
        "df_all = df_truth.merge(df_basepreds_kf, how='inner', on=cols[:3], suffixes=('_truth', '_basepred'))"
      ],
      "id": "afraid-astronomy",
      "execution_count": null,
      "outputs": [
        {
          "output_type": "display_data",
          "data": {
            "application/vnd.jupyter.widget-view+json": {
              "model_id": "cef0e86ba3494a79b7832a8bcbecc7c0",
              "version_major": 2,
              "version_minor": 0
            },
            "text/plain": [
              "  0%|          | 0/73 [00:00<?, ?it/s]"
            ]
          },
          "metadata": {
            "tags": []
          }
        },
        {
          "output_type": "display_data",
          "data": {
            "application/vnd.jupyter.widget-view+json": {
              "model_id": "9f8245a9d95a4508a78f532dd60fca08",
              "version_major": 2,
              "version_minor": 0
            },
            "text/plain": [
              "  0%|          | 0/73 [00:00<?, ?it/s]"
            ]
          },
          "metadata": {
            "tags": []
          }
        }
      ]
    },
    {
      "cell_type": "code",
      "metadata": {
        "execution": {
          "iopub.execute_input": "2021-05-13T00:50:45.470621Z",
          "iopub.status.busy": "2021-05-13T00:50:45.470007Z",
          "iopub.status.idle": "2021-05-13T00:50:45.471889Z",
          "shell.execute_reply": "2021-05-13T00:50:45.472359Z"
        },
        "papermill": {
          "duration": 0.019917,
          "end_time": "2021-05-13T00:50:45.472535",
          "exception": false,
          "start_time": "2021-05-13T00:50:45.452618",
          "status": "completed"
        },
        "tags": [],
        "id": "ancient-raleigh"
      },
      "source": [
        "# simplified haversine distance\n",
        "def calc_haversine(lat1, lon1, lat2, lon2):\n",
        "    \"\"\"Calculates the great circle distance between two points\n",
        "    on the earth. Inputs are array-like and specified in decimal degrees.\n",
        "    \"\"\"\n",
        "    lat1, lon1, lat2, lon2 = map(np.radians, [lat1, lon1, lat2, lon2])\n",
        "    dlat = lat2 - lat1\n",
        "    dlon = lon2 - lon1\n",
        "    a = np.sin(dlat/2.0)**2 + np.cos(lat1) * np.cos(lat2) * np.sin(dlon/2.0)**2\n",
        "\n",
        "    c = 2 * np.arcsin(a**0.5)\n",
        "    dist = 6_367_000 * c\n",
        "    return dist"
      ],
      "id": "ancient-raleigh",
      "execution_count": null,
      "outputs": []
    },
    {
      "cell_type": "code",
      "metadata": {
        "execution": {
          "iopub.execute_input": "2021-05-13T00:50:45.497915Z",
          "iopub.status.busy": "2021-05-13T00:50:45.497343Z",
          "iopub.status.idle": "2021-05-13T00:50:45.550237Z",
          "shell.execute_reply": "2021-05-13T00:50:45.551013Z"
        },
        "papermill": {
          "duration": 0.067084,
          "end_time": "2021-05-13T00:50:45.551167",
          "exception": false,
          "start_time": "2021-05-13T00:50:45.484083",
          "status": "completed"
        },
        "tags": [],
        "id": "controlled-adelaide",
        "outputId": "f5aa0572-743d-408e-b541-a4c76cc094db"
      },
      "source": [
        "df_all['dist'] = calc_haversine(df_all.latDeg_truth, df_all.lngDeg_truth, \n",
        "    df_all.latDeg_basepred, df_all.lngDeg_basepred)\n",
        "\n",
        "print(f'mean error on train dataset: {df_all.dist.mean():.3f}m - slightly better than the baseline, but still a lot of improvements are needed')\n"
      ],
      "id": "controlled-adelaide",
      "execution_count": null,
      "outputs": [
        {
          "output_type": "stream",
          "text": [
            "mean error on train dataset: 3.391m - slightly better than the baseline, but still a lot of improvements are needed\n"
          ],
          "name": "stdout"
        }
      ]
    },
    {
      "cell_type": "markdown",
      "metadata": {
        "papermill": {
          "duration": 0.01128,
          "end_time": "2021-05-13T00:50:45.573811",
          "exception": false,
          "start_time": "2021-05-13T00:50:45.562531",
          "status": "completed"
        },
        "tags": [],
        "id": "specified-inquiry"
      },
      "source": [
        "## prepare a submission based on the sample submission"
      ],
      "id": "specified-inquiry"
    },
    {
      "cell_type": "code",
      "metadata": {
        "execution": {
          "iopub.execute_input": "2021-05-13T00:50:45.601247Z",
          "iopub.status.busy": "2021-05-13T00:50:45.600613Z",
          "iopub.status.idle": "2021-05-13T00:51:17.982779Z",
          "shell.execute_reply": "2021-05-13T00:51:17.983299Z"
        },
        "papermill": {
          "duration": 32.398374,
          "end_time": "2021-05-13T00:51:17.983517",
          "exception": false,
          "start_time": "2021-05-13T00:50:45.585143",
          "status": "completed"
        },
        "tags": [],
        "colab": {
          "referenced_widgets": [
            "80621916d52e426aba8999db7a555c1b"
          ]
        },
        "id": "comparative-leather",
        "outputId": "4ae23e39-d26b-4e18-d007-39359ebaddb3"
      },
      "source": [
        "test_base = pd.read_csv(\n",
        "    '../input/google-smartphone-decimeter-challenge/baseline_locations_test.csv')\n",
        "\n",
        "sub = pd.read_csv('../input/google-smartphone-decimeter-challenge/sample_submission.csv')\n",
        "\n",
        "kf_smoothed_baseline = apply_kf_smoothing(test_base)\n",
        "sub = sub.assign(\n",
        "    latDeg = kf_smoothed_baseline.latDeg,\n",
        "    lngDeg = kf_smoothed_baseline.lngDeg\n",
        ")\n",
        "sub.to_csv('submission.csv', index=False)"
      ],
      "id": "comparative-leather",
      "execution_count": null,
      "outputs": [
        {
          "output_type": "display_data",
          "data": {
            "application/vnd.jupyter.widget-view+json": {
              "model_id": "80621916d52e426aba8999db7a555c1b",
              "version_major": 2,
              "version_minor": 0
            },
            "text/plain": [
              "  0%|          | 0/48 [00:00<?, ?it/s]"
            ]
          },
          "metadata": {
            "tags": []
          }
        }
      ]
    }
  ]
}