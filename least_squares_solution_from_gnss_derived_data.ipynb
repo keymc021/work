{
  "nbformat": 4,
  "nbformat_minor": 5,
  "metadata": {
    "kernelspec": {
      "display_name": "Python 3",
      "language": "python",
      "name": "python3"
    },
    "language_info": {
      "codemirror_mode": {
        "name": "ipython",
        "version": 3
      },
      "file_extension": ".py",
      "mimetype": "text/x-python",
      "name": "python",
      "nbconvert_exporter": "python",
      "pygments_lexer": "ipython3",
      "version": "3.7.10"
    },
    "papermill": {
      "default_parameters": {},
      "duration": 1032.259335,
      "end_time": "2021-05-27T20:58:21.568898",
      "environment_variables": {},
      "exception": null,
      "input_path": "__notebook__.ipynb",
      "output_path": "__notebook__.ipynb",
      "parameters": {},
      "start_time": "2021-05-27T20:41:09.309563",
      "version": "2.3.3"
    },
    "widgets": {
      "application/vnd.jupyter.widget-state+json": {}
    },
    "colab": {
      "name": "least-squares-solution-from-gnss-derived-data.ipynb",
      "provenance": [],
      "include_colab_link": true
    }
  },
  "cells": [
    {
      "cell_type": "markdown",
      "metadata": {
        "id": "view-in-github",
        "colab_type": "text"
      },
      "source": [
        "<a href=\"https://colab.research.google.com/github/keymc021/work/blob/master/least_squares_solution_from_gnss_derived_data.ipynb\" target=\"_parent\"><img src=\"https://colab.research.google.com/assets/colab-badge.svg\" alt=\"Open In Colab\"/></a>"
      ]
    },
    {
      "cell_type": "code",
      "metadata": {
        "_cell_guid": "b1076dfc-b9ad-4769-8c92-a6c4dae69d19",
        "_kg_hide-input": true,
        "_uuid": "8f2839f25d086af736a60e9eeb907d3b93b6e0e5",
        "execution": {
          "iopub.execute_input": "2021-05-27T20:41:18.188997Z",
          "iopub.status.busy": "2021-05-27T20:41:18.187727Z",
          "iopub.status.idle": "2021-05-27T20:41:18.199197Z",
          "shell.execute_reply": "2021-05-27T20:41:18.198464Z",
          "shell.execute_reply.started": "2021-05-26T00:31:42.69247Z"
        },
        "papermill": {
          "duration": 0.039466,
          "end_time": "2021-05-27T20:41:18.199392",
          "exception": false,
          "start_time": "2021-05-27T20:41:18.159926",
          "status": "completed"
        },
        "tags": [],
        "id": "superb-speaking"
      },
      "source": [
        "# This Python 3 environment comes with many helpful analytics libraries installed\n",
        "# It is defined by the kaggle/python Docker image: https://github.com/kaggle/docker-python\n",
        "# For example, here's several helpful packages to load\n",
        "\n",
        "import numpy as np # linear algebra\n",
        "import pandas as pd # data processing, CSV file I/O (e.g. pd.read_csv)\n",
        "\n",
        "# Input data files are available in the read-only \"../input/\" directory\n",
        "# For example, running this (by clicking run or pressing Shift+Enter) will list all files under the input directory\n",
        "\n",
        "# import os\n",
        "# for dirname, _, filenames in os.walk('/kaggle/input'):\n",
        "#     for filename in filenames:\n",
        "#         print(os.path.join(dirname, filename))\n",
        "from pathlib import Path\n",
        "datapath = Path(\"../input/google-smartphone-decimeter-challenge/\")\n",
        "\n",
        "# You can write up to 20GB to the current directory (/kaggle/working/) that gets preserved as output when you create a version using \"Save & Run All\" \n",
        "# You can also write temporary files to /kaggle/temp/, but they won't be saved outside of the current session"
      ],
      "id": "superb-speaking",
      "execution_count": null,
      "outputs": []
    },
    {
      "cell_type": "markdown",
      "metadata": {
        "papermill": {
          "duration": 0.022317,
          "end_time": "2021-05-27T20:41:18.244533",
          "exception": false,
          "start_time": "2021-05-27T20:41:18.222216",
          "status": "completed"
        },
        "tags": [],
        "id": "unavailable-visit"
      },
      "source": [
        "## Background\n",
        "\n",
        "Every satellite in space continuously broadcasts its current position coordinate information to the world through satellite signals. Any GNSS receiver can receive and read this information through an antenna.\n",
        "\n",
        "When the satellite sends position information, it also attaches the timestamp when the data was sent. After the GNSS receiver receives the data, it subtracts the time on the timestamp from the current time, which is the time taken for the data transmission. And the approximate distance between the satellite and the GPS receiver can be calculated by data transmission time multiplied by the transmission speed, which is the `rawPrM` in `_derived` table. \n",
        "\n",
        "The most difficult problem in GPS positioning is error. There are many reasons for positioning errors, such as the ionosphere, the receiving device, and the blocking and multipath effects. Inorder to get a more accurate the approximate distance between the satellite and the GPS receiver with as less error as possible, we can use a corrected approximate distance as [home page](https://www.kaggle.com/c/google-smartphone-decimeter-challenge/data) suggested, which can be computed as: `correctedPrM = rawPrM + satClkBiasM - isrbM - ionoDelayM - tropoDelayM`\n",
        "\n",
        "<img src='https://www.researchgate.net/publication/324989880/figure/fig1/AS:623672356253699@1525706485241/Global-Navigation-Satellite-System-GNSS-spoofing-attack-illustration.png' width=400/>\n",
        "\n",
        "Normally these values are need to be calculated carefully from GNSSLog file by lots of domain knowledge. Thanks to the dataset provider, we can directly use the intermediate calculated value from derived files to built the initial version of the model."
      ],
      "id": "unavailable-visit"
    },
    {
      "cell_type": "markdown",
      "metadata": {
        "_kg_hide-input": true,
        "papermill": {
          "duration": 0.022386,
          "end_time": "2021-05-27T20:41:18.290833",
          "exception": false,
          "start_time": "2021-05-27T20:41:18.268447",
          "status": "completed"
        },
        "tags": [],
        "id": "noticed-bennett"
      },
      "source": [
        "### Basic Utils Functions"
      ],
      "id": "noticed-bennett"
    },
    {
      "cell_type": "code",
      "metadata": {
        "_kg_hide-input": true,
        "execution": {
          "iopub.execute_input": "2021-05-27T20:41:18.352472Z",
          "iopub.status.busy": "2021-05-27T20:41:18.351601Z",
          "iopub.status.idle": "2021-05-27T20:41:18.354729Z",
          "shell.execute_reply": "2021-05-27T20:41:18.354063Z",
          "shell.execute_reply.started": "2021-05-26T00:31:42.700044Z"
        },
        "papermill": {
          "duration": 0.041232,
          "end_time": "2021-05-27T20:41:18.354870",
          "exception": false,
          "start_time": "2021-05-27T20:41:18.313638",
          "status": "completed"
        },
        "tags": [],
        "id": "neutral-correlation"
      },
      "source": [
        "def ecef2lla(x, y, z):\n",
        "  # x, y and z are scalars or vectors in meters\n",
        "  x = np.array([x]).reshape(np.array([x]).shape[-1], 1)\n",
        "  y = np.array([y]).reshape(np.array([y]).shape[-1], 1)\n",
        "  z = np.array([z]).reshape(np.array([z]).shape[-1], 1)\n",
        "\n",
        "  a=6378137\n",
        "  a_sq=a**2\n",
        "  e = 8.181919084261345e-2\n",
        "  e_sq = 6.69437999014e-3\n",
        "\n",
        "  f = 1/298.257223563\n",
        "  b = a*(1-f)\n",
        "\n",
        "  # calculations:\n",
        "  r = np.sqrt(x**2 + y**2)\n",
        "  ep_sq  = (a**2-b**2)/b**2\n",
        "  ee = (a**2-b**2)\n",
        "  f = (54*b**2)*(z**2)\n",
        "  g = r**2 + (1 - e_sq)*(z**2) - e_sq*ee*2\n",
        "  c = (e_sq**2)*f*r**2/(g**3)\n",
        "  s = (1 + c + np.sqrt(c**2 + 2*c))**(1/3.)\n",
        "  p = f/(3.*(g**2)*(s + (1./s) + 1)**2)\n",
        "  q = np.sqrt(1 + 2*p*e_sq**2)\n",
        "  r_0 = -(p*e_sq*r)/(1+q) + np.sqrt(0.5*(a**2)*(1+(1./q)) - p*(z**2)*(1-e_sq)/(q*(1+q)) - 0.5*p*(r**2))\n",
        "  u = np.sqrt((r - e_sq*r_0)**2 + z**2)\n",
        "  v = np.sqrt((r - e_sq*r_0)**2 + (1 - e_sq)*z**2)\n",
        "  z_0 = (b**2)*z/(a*v)\n",
        "  h = u*(1 - b**2/(a*v))\n",
        "  phi = np.arctan((z + ep_sq*z_0)/r)\n",
        "  lambd = np.arctan2(y, x)\n",
        "\n",
        "  return phi*180/np.pi, lambd*180/np.pi, h"
      ],
      "id": "neutral-correlation",
      "execution_count": null,
      "outputs": []
    },
    {
      "cell_type": "markdown",
      "metadata": {
        "papermill": {
          "duration": 0.022299,
          "end_time": "2021-05-27T20:41:18.400793",
          "exception": false,
          "start_time": "2021-05-27T20:41:18.378494",
          "status": "completed"
        },
        "tags": [],
        "id": "competent-peter"
      },
      "source": [
        "### Load Data"
      ],
      "id": "competent-peter"
    },
    {
      "cell_type": "code",
      "metadata": {
        "execution": {
          "iopub.execute_input": "2021-05-27T20:41:18.455517Z",
          "iopub.status.busy": "2021-05-27T20:41:18.454771Z",
          "iopub.status.idle": "2021-05-27T20:41:19.089937Z",
          "shell.execute_reply": "2021-05-27T20:41:19.089396Z",
          "shell.execute_reply.started": "2021-05-26T00:31:42.721585Z"
        },
        "papermill": {
          "duration": 0.665998,
          "end_time": "2021-05-27T20:41:19.090083",
          "exception": false,
          "start_time": "2021-05-27T20:41:18.424085",
          "status": "completed"
        },
        "tags": [],
        "id": "grand-growth"
      },
      "source": [
        "df_baseline = pd.read_csv(datapath/\"baseline_locations_train.csv\")\n",
        "df_sample_trail_gt = pd.read_csv(datapath/\"train/2020-05-14-US-MTV-1/Pixel4/ground_truth.csv\")\n",
        "df_sample_trail = pd.read_csv(datapath/\"train/2020-05-14-US-MTV-1/Pixel4/Pixel4_derived.csv\")\n",
        "df_sample_trail[\"correctedPrM\"] = df_sample_trail[\"rawPrM\"] + df_sample_trail[\"satClkBiasM\"] - df_sample_trail[\"isrbM\"] - df_sample_trail[\"ionoDelayM\"] - df_sample_trail[\"tropoDelayM\"] "
      ],
      "id": "grand-growth",
      "execution_count": null,
      "outputs": []
    },
    {
      "cell_type": "markdown",
      "metadata": {
        "papermill": {
          "duration": 0.023468,
          "end_time": "2021-05-27T20:41:19.136216",
          "exception": false,
          "start_time": "2021-05-27T20:41:19.112748",
          "status": "completed"
        },
        "tags": [],
        "id": "continental-explanation"
      },
      "source": [
        "## Simple Least Square Solution\n",
        "\n",
        "An intuitive solution to solve this problem is utilizing the basic geometry information to infer the GNSS receiver location. Since we have multiple satellite, we can optimize the location to achieve the minimum projection error among all satellite based by least square.\n",
        "\n",
        "To be more specific,\n",
        "\n",
        "$$r_u^k = ||x^k_{sat} - x_u||$$\n",
        "\n",
        "where,\n",
        "\n",
        "$r_u^k$: the actually distance between user device (GNSS Receiver) to Satellite;\n",
        "\n",
        "$x^k_{sat}$: the actually position of Satellite;\n",
        "\n",
        "$x_u$: the actually position of user device (GNSS Receiver).\n",
        "\n",
        "$$ Pr_u^k = r_u^k + b_u + \\sigma^k $$\n",
        "\n",
        "where,\n",
        "\n",
        "$Pr_u^k$: the corrected pseudorange (i.e. a closer approximation to the geometric range from the phone to the satellite) can be computed as: $correctedPrM = rawPrM + satClkBiasM - isrbM - ionoDelayM - tropoDelayM$;\n",
        "\n",
        "$b_u$: the user clock bias in meters equivalent, which $b_u = clock\\_bias_u * LIGHTSPEED$;\n",
        "\n",
        "$\\sigma^k$: the actually position of user device (GNSS Receiver).\n",
        "\n",
        "Our aim is to minimize the measured and the estimated pseudorange for each satellite:\n",
        "\n",
        "$$\\delta Pr_u^k = Pr_u^k - (r_u^k + b_u) = Pr_u^k - (||x^k_{sat} - x_u|| + b_u)$$\n",
        "\n",
        "which is our target function in least square solver.\n",
        "\n",
        "<!-- Which can be deducted to based equation (5) in [here](https://www.telesens.co/2017/07/17/calculating-position-from-raw-gps-data/):\n",
        "\n",
        "$$\\delta Pr_u^k = - \\frac{x^k_{sat} - x_u}{||x^k_{sat} - x_u||} \\delta x_u^k + \\delta b_u + \\sigma^k = - \\hat{x}_u^k \\delta x_u^k + \\delta b_u + \\sigma^k$$ -->\n",
        "\n",
        "Let's try it with 1 single epoch."
      ],
      "id": "continental-explanation"
    },
    {
      "cell_type": "code",
      "metadata": {
        "execution": {
          "iopub.execute_input": "2021-05-27T20:41:19.188428Z",
          "iopub.status.busy": "2021-05-27T20:41:19.187686Z",
          "iopub.status.idle": "2021-05-27T20:41:19.244065Z",
          "shell.execute_reply": "2021-05-27T20:41:19.244603Z",
          "shell.execute_reply.started": "2021-05-26T00:31:43.609269Z"
        },
        "papermill": {
          "duration": 0.086113,
          "end_time": "2021-05-27T20:41:19.244785",
          "exception": false,
          "start_time": "2021-05-27T20:41:19.158672",
          "status": "completed"
        },
        "tags": [],
        "id": "variable-evanescence"
      },
      "source": [
        "epoch_time = 1273529464442\n",
        "df_sample_epoch = df_sample_trail[df_sample_trail.millisSinceGpsEpoch == epoch_time]\n",
        "df_sample_epoch_gt = df_sample_trail_gt[df_sample_trail_gt.millisSinceGpsEpoch == epoch_time]\n",
        "df_sample_epoch_baseline = df_baseline[(df_baseline.collectionName == \"2020-05-14-US-MTV-1\") & (df_baseline.phoneName == \"Pixel4\") & (df_baseline.millisSinceGpsEpoch == epoch_time)]\n",
        "\n",
        "sat_pos = df_sample_epoch[[\"xSatPosM\",\"ySatPosM\",\"zSatPosM\"]].to_numpy()\n",
        "pseudoranges = np.squeeze(df_sample_epoch[[\"correctedPrM\"]].to_numpy())"
      ],
      "id": "variable-evanescence",
      "execution_count": null,
      "outputs": []
    },
    {
      "cell_type": "markdown",
      "metadata": {
        "papermill": {
          "duration": 0.022927,
          "end_time": "2021-05-27T20:41:19.292044",
          "exception": false,
          "start_time": "2021-05-27T20:41:19.269117",
          "status": "completed"
        },
        "tags": [],
        "id": "ranging-daniel"
      },
      "source": [
        "### self implement simple least square\n",
        "\n",
        "Build the simplest version from [code](https://www.kaggle.com/realbigmitchell/simple-least-squares-solution) and [article](https://www.telesens.co/2017/07/17/calculating-position-from-raw-gps-data/)."
      ],
      "id": "ranging-daniel"
    },
    {
      "cell_type": "code",
      "metadata": {
        "execution": {
          "iopub.execute_input": "2021-05-27T20:41:19.350691Z",
          "iopub.status.busy": "2021-05-27T20:41:19.349448Z",
          "iopub.status.idle": "2021-05-27T20:41:19.352231Z",
          "shell.execute_reply": "2021-05-27T20:41:19.352687Z",
          "shell.execute_reply.started": "2021-05-26T00:31:43.681651Z"
        },
        "papermill": {
          "duration": 0.03719,
          "end_time": "2021-05-27T20:41:19.352870",
          "exception": false,
          "start_time": "2021-05-27T20:41:19.315680",
          "status": "completed"
        },
        "tags": [],
        "id": "outdoor-knowing"
      },
      "source": [
        "def least_squares(sat_pos, pseudoranges, weights=1, x_hat=np.array([0, 0, 0, 0])):\n",
        "  \"\"\"\n",
        "  Args:\n",
        "    sat_pos: The satellite position (meters) in an ECEF coordinate frame\n",
        "    pseudoranges: The corrected pseudorange (i.e. a closer approximation to the geometric range from the phone to the satellite)\n",
        "    x_hat: the phone's initial/previous estimated position (x, y, z, b) and \n",
        "           b represent the user clock bias in units of distance = clock bias (t) * light speed (c)\n",
        "  \n",
        "  Returns:\n",
        "    x_hat: the phone's estimated position\n",
        "    norm_dp:\n",
        "  \"\"\"\n",
        "  dx = np.Inf*np.ones(3)\n",
        "  G = np.ones((pseudoranges.size, 4))\n",
        "  iterations = 0\n",
        "\n",
        "  if isinstance(weights, np.ndarray):\n",
        "    weights = np.diag(weights)\n",
        "  else:\n",
        "    weights = weights*np.eye(pseudoranges.size)\n",
        "\n",
        "  while np.linalg.norm(dx) > 1e-3:\n",
        "    norms = np.linalg.norm(sat_pos - x_hat[:3], axis=1)\n",
        "    dp = pseudoranges - norms - x_hat[3]\n",
        "    G[:, 0:3] = -(sat_pos - x_hat[:3])/norms[:, None]\n",
        "    # G_T = np.transpose(G)\n",
        "    # dx = np.linalg.inv(G_T@G) @ G_T @ dp\n",
        "    dx = np.linalg.pinv(weights@G) @ weights @ dp\n",
        "    x_hat = x_hat + dx\n",
        "    iterations += 1\n",
        "  return x_hat, np.linalg.norm(dp)"
      ],
      "id": "outdoor-knowing",
      "execution_count": null,
      "outputs": []
    },
    {
      "cell_type": "code",
      "metadata": {
        "execution": {
          "iopub.execute_input": "2021-05-27T20:41:19.409944Z",
          "iopub.status.busy": "2021-05-27T20:41:19.409001Z",
          "iopub.status.idle": "2021-05-27T20:41:19.430387Z",
          "shell.execute_reply": "2021-05-27T20:41:19.429783Z",
          "shell.execute_reply.started": "2021-05-26T00:31:43.693602Z"
        },
        "papermill": {
          "duration": 0.054954,
          "end_time": "2021-05-27T20:41:19.430574",
          "exception": false,
          "start_time": "2021-05-27T20:41:19.375620",
          "status": "completed"
        },
        "tags": [],
        "id": "illegal-number",
        "outputId": "f2dbdef2-9fc4-4456-b6de-cafc3b7e9fb0"
      },
      "source": [
        "x, dp = least_squares(sat_pos, pseudoranges)\n",
        "\n",
        "print(\"Ground truth:\", df_sample_epoch_gt[[\"latDeg\",\"lngDeg\",\"heightAboveWgs84EllipsoidM\"]].to_numpy())\n",
        "print(\"Weighted Least Square Estimation (Baseline):\", df_sample_epoch_baseline[[\"latDeg\",\"lngDeg\",\"heightAboveWgs84EllipsoidM\"]].to_numpy())\n",
        "print(\"Simple Least Square Estimation:\", *ecef2lla(*x[:3]))\n",
        "# print(b/LIGHTSPEED)\n",
        "# print(dp)"
      ],
      "id": "illegal-number",
      "execution_count": null,
      "outputs": [
        {
          "output_type": "stream",
          "text": [
            "Ground truth: [[  37.42357595 -122.09413204   33.21      ]]\n",
            "Weighted Least Square Estimation (Baseline): [[  37.4235777 -122.094101   -33.29     ]]\n",
            "Simple Least Square Estimation: [[37.42361372]] [[-122.0936959]] [[-26.18615617]]\n"
          ],
          "name": "stdout"
        }
      ]
    },
    {
      "cell_type": "markdown",
      "metadata": {
        "papermill": {
          "duration": 0.022631,
          "end_time": "2021-05-27T20:41:19.476615",
          "exception": false,
          "start_time": "2021-05-27T20:41:19.453984",
          "status": "completed"
        },
        "tags": [],
        "id": "respective-direction"
      },
      "source": [
        "### scipy optimize version\n",
        "\n",
        "Build the simplest version from [this code](https://github.com/commaai/laika/blob/master/laika/raw_gnss.py#L254-L350)"
      ],
      "id": "respective-direction"
    },
    {
      "cell_type": "code",
      "metadata": {
        "execution": {
          "iopub.execute_input": "2021-05-27T20:41:19.532518Z",
          "iopub.status.busy": "2021-05-27T20:41:19.531791Z",
          "iopub.status.idle": "2021-05-27T20:41:20.072835Z",
          "shell.execute_reply": "2021-05-27T20:41:20.073535Z",
          "shell.execute_reply.started": "2021-05-26T00:31:43.739618Z"
        },
        "papermill": {
          "duration": 0.573234,
          "end_time": "2021-05-27T20:41:20.073741",
          "exception": false,
          "start_time": "2021-05-27T20:41:19.500507",
          "status": "completed"
        },
        "tags": [],
        "id": "stupid-economics"
      },
      "source": [
        "import scipy.optimize as opt\n",
        "\n",
        "def calc_pos_fix(sat_pos, pr, weights=1, x0=[0, 0, 0, 0]):\n",
        "  '''\n",
        "  Calculates gps fix with WLS optimizer\n",
        "  returns:\n",
        "  0 -> list with positions\n",
        "  1 -> pseudorange errs\n",
        "  '''\n",
        "  n = len(pr)\n",
        "  if n < 3:\n",
        "      return x0, []\n",
        "\n",
        "  Fx_pos = pr_residual(sat_pos, pr, weights=weights)\n",
        "  opt_pos = opt.least_squares(Fx_pos, x0).x\n",
        "  return opt_pos, Fx_pos(opt_pos, weights=1)\n",
        "\n",
        "\n",
        "def pr_residual(sat_pos, pr, weights=1):\n",
        "  # solve for pos\n",
        "  def Fx_pos(x_hat, weights=weights):\n",
        "    rows = weights * (np.linalg.norm(sat_pos - x_hat[:3], axis=1) + x_hat[3] - pr)\n",
        "    return rows\n",
        "  return Fx_pos"
      ],
      "id": "stupid-economics",
      "execution_count": null,
      "outputs": []
    },
    {
      "cell_type": "code",
      "metadata": {
        "execution": {
          "iopub.execute_input": "2021-05-27T20:41:20.150062Z",
          "iopub.status.busy": "2021-05-27T20:41:20.142713Z",
          "iopub.status.idle": "2021-05-27T20:41:20.170566Z",
          "shell.execute_reply": "2021-05-27T20:41:20.171187Z",
          "shell.execute_reply.started": "2021-05-26T00:31:43.935932Z"
        },
        "papermill": {
          "duration": 0.073722,
          "end_time": "2021-05-27T20:41:20.171384",
          "exception": false,
          "start_time": "2021-05-27T20:41:20.097662",
          "status": "completed"
        },
        "tags": [],
        "id": "expensive-disclosure",
        "outputId": "060512cb-35ff-47a8-f1c2-fbeb975b7157"
      },
      "source": [
        "x, dp = calc_pos_fix(sat_pos, pseudoranges)\n",
        "\n",
        "print(\"Ground truth:\", df_sample_epoch_gt[[\"latDeg\",\"lngDeg\",\"heightAboveWgs84EllipsoidM\"]].to_numpy())\n",
        "print(\"Weighted Least Square Estimation (Baseline):\", df_sample_epoch_baseline[[\"latDeg\",\"lngDeg\",\"heightAboveWgs84EllipsoidM\"]].to_numpy())\n",
        "print(\"Simple Least Square Estimation:\", *ecef2lla(*x[:3]))\n",
        "# print(x[3]/LIGHTSPEED)\n",
        "# print(dp)"
      ],
      "id": "expensive-disclosure",
      "execution_count": null,
      "outputs": [
        {
          "output_type": "stream",
          "text": [
            "Ground truth: [[  37.42357595 -122.09413204   33.21      ]]\n",
            "Weighted Least Square Estimation (Baseline): [[  37.4235777 -122.094101   -33.29     ]]\n",
            "Simple Least Square Estimation: [[37.42361372]] [[-122.0936959]] [[-26.18615579]]\n"
          ],
          "name": "stdout"
        }
      ]
    },
    {
      "cell_type": "markdown",
      "metadata": {
        "papermill": {
          "duration": 0.022925,
          "end_time": "2021-05-27T20:41:20.219335",
          "exception": false,
          "start_time": "2021-05-27T20:41:20.196410",
          "status": "completed"
        },
        "tags": [],
        "id": "demonstrated-error"
      },
      "source": [
        "## Weighted Least Square Solution\n",
        "\n",
        "The signal from each satellite may not that reliable. In this case, we can apply the reliability of the signal as weights for each signal to improve the least square result. Here, we use the `rawPrUncM` as the weights for signal, which represents the pseudorange uncertainty/deviation of each signal. The relative code can be found at [the google official repo](WLS shown in official repo](https://github.com/google/gps-measurement-tools/blob/master/opensource/WlsPvt.m#L62-L111)"
      ],
      "id": "demonstrated-error"
    },
    {
      "cell_type": "code",
      "metadata": {
        "execution": {
          "iopub.execute_input": "2021-05-27T20:41:20.271489Z",
          "iopub.status.busy": "2021-05-27T20:41:20.270816Z",
          "iopub.status.idle": "2021-05-27T20:41:20.284777Z",
          "shell.execute_reply": "2021-05-27T20:41:20.284253Z"
        },
        "papermill": {
          "duration": 0.04152,
          "end_time": "2021-05-27T20:41:20.284923",
          "exception": false,
          "start_time": "2021-05-27T20:41:20.243403",
          "status": "completed"
        },
        "tags": [],
        "id": "respective-collective",
        "outputId": "eba2ceee-989c-4af7-cd2b-fdb35743f116"
      },
      "source": [
        "pseudoranges_sigma = np.squeeze(df_sample_epoch[[\"rawPrUncM\"]].to_numpy())\n",
        "\n",
        "x, dp = least_squares(sat_pos, pseudoranges, 1/pseudoranges_sigma)\n",
        "\n",
        "print(\"Ground truth:\", df_sample_epoch_gt[[\"latDeg\",\"lngDeg\",\"heightAboveWgs84EllipsoidM\"]].to_numpy())\n",
        "print(\"Weighted Least Square Estimation (Baseline):\", df_sample_epoch_baseline[[\"latDeg\",\"lngDeg\",\"heightAboveWgs84EllipsoidM\"]].to_numpy())\n",
        "print(\"Weighted Least Square Estimation:\", *ecef2lla(*x[:3]))"
      ],
      "id": "respective-collective",
      "execution_count": null,
      "outputs": [
        {
          "output_type": "stream",
          "text": [
            "Ground truth: [[  37.42357595 -122.09413204   33.21      ]]\n",
            "Weighted Least Square Estimation (Baseline): [[  37.4235777 -122.094101   -33.29     ]]\n",
            "Weighted Least Square Estimation: [[37.42357917]] [[-122.09375829]] [[-35.25074978]]\n"
          ],
          "name": "stdout"
        }
      ]
    },
    {
      "cell_type": "code",
      "metadata": {
        "execution": {
          "iopub.execute_input": "2021-05-27T20:41:20.341660Z",
          "iopub.status.busy": "2021-05-27T20:41:20.340928Z",
          "iopub.status.idle": "2021-05-27T20:41:20.367051Z",
          "shell.execute_reply": "2021-05-27T20:41:20.367873Z"
        },
        "papermill": {
          "duration": 0.059071,
          "end_time": "2021-05-27T20:41:20.368115",
          "exception": false,
          "start_time": "2021-05-27T20:41:20.309044",
          "status": "completed"
        },
        "tags": [],
        "id": "narrative-profile",
        "outputId": "d788a360-fe3a-4830-fa65-97d3397f6ecc"
      },
      "source": [
        "pseudoranges_sigma = np.squeeze(df_sample_epoch[[\"rawPrUncM\"]].to_numpy())\n",
        "\n",
        "x, dp = calc_pos_fix(sat_pos, pseudoranges, 1/pseudoranges_sigma)\n",
        "\n",
        "print(\"Ground truth:\", df_sample_epoch_gt[[\"latDeg\",\"lngDeg\",\"heightAboveWgs84EllipsoidM\"]].to_numpy())\n",
        "print(\"Weighted Least Square Estimation (Baseline):\", df_sample_epoch_baseline[[\"latDeg\",\"lngDeg\",\"heightAboveWgs84EllipsoidM\"]].to_numpy())\n",
        "print(\"Weighted Least Square Estimation:\", *ecef2lla(*x[:3]))"
      ],
      "id": "narrative-profile",
      "execution_count": null,
      "outputs": [
        {
          "output_type": "stream",
          "text": [
            "Ground truth: [[  37.42357595 -122.09413204   33.21      ]]\n",
            "Weighted Least Square Estimation (Baseline): [[  37.4235777 -122.094101   -33.29     ]]\n",
            "Weighted Least Square Estimation: [[37.42357917]] [[-122.09375829]] [[-35.25075018]]\n"
          ],
          "name": "stdout"
        }
      ]
    },
    {
      "cell_type": "markdown",
      "metadata": {
        "papermill": {
          "duration": 0.023922,
          "end_time": "2021-05-27T20:41:20.418693",
          "exception": false,
          "start_time": "2021-05-27T20:41:20.394771",
          "status": "completed"
        },
        "tags": [],
        "id": "optional-coast"
      },
      "source": [
        "## Evaluation"
      ],
      "id": "optional-coast"
    },
    {
      "cell_type": "code",
      "metadata": {
        "execution": {
          "iopub.execute_input": "2021-05-27T20:41:20.471940Z",
          "iopub.status.busy": "2021-05-27T20:41:20.470958Z",
          "iopub.status.idle": "2021-05-27T20:41:20.477658Z",
          "shell.execute_reply": "2021-05-27T20:41:20.478118Z",
          "shell.execute_reply.started": "2021-05-26T00:31:43.985997Z"
        },
        "papermill": {
          "duration": 0.035102,
          "end_time": "2021-05-27T20:41:20.478332",
          "exception": false,
          "start_time": "2021-05-27T20:41:20.443230",
          "status": "completed"
        },
        "tags": [],
        "id": "coupled-stationery"
      },
      "source": [
        "def calc_haversine(lat1, lon1, lat2, lon2):\n",
        "  \"\"\"Calculates the great circle distance between two points\n",
        "  on the earth. Inputs are array-like and specified in decimal degrees.\n",
        "  \"\"\"\n",
        "  RADIUS = 6_367_000\n",
        "  lat1, lon1, lat2, lon2 = map(np.radians, [lat1, lon1, lat2, lon2])\n",
        "  dlat = lat2 - lat1\n",
        "  dlon = lon2 - lon1\n",
        "  a = np.sin(dlat/2)**2 + \\\n",
        "      np.cos(lat1) * np.cos(lat2) * np.sin(dlon/2)**2\n",
        "  dist = 2 * RADIUS * np.arcsin(a**0.5)\n",
        "  return dist"
      ],
      "id": "coupled-stationery",
      "execution_count": null,
      "outputs": []
    },
    {
      "cell_type": "markdown",
      "metadata": {
        "papermill": {
          "duration": 0.024035,
          "end_time": "2021-05-27T20:41:20.526569",
          "exception": false,
          "start_time": "2021-05-27T20:41:20.502534",
          "status": "completed"
        },
        "tags": [],
        "id": "pressed-catholic"
      },
      "source": [
        "### Evaluate in one epoch"
      ],
      "id": "pressed-catholic"
    },
    {
      "cell_type": "code",
      "metadata": {
        "execution": {
          "iopub.execute_input": "2021-05-27T20:41:20.579586Z",
          "iopub.status.busy": "2021-05-27T20:41:20.578575Z",
          "iopub.status.idle": "2021-05-27T20:41:20.589905Z",
          "shell.execute_reply": "2021-05-27T20:41:20.589104Z",
          "shell.execute_reply.started": "2021-05-26T00:31:43.995617Z"
        },
        "papermill": {
          "duration": 0.038803,
          "end_time": "2021-05-27T20:41:20.590099",
          "exception": false,
          "start_time": "2021-05-27T20:41:20.551296",
          "status": "completed"
        },
        "tags": [],
        "id": "crucial-translation",
        "outputId": "64cd25f8-34b0-4546-cdef-13ae61ffeedf"
      },
      "source": [
        "deg_gt = df_sample_epoch_gt[[\"latDeg\",\"lngDeg\"]].to_numpy().transpose()\n",
        "deg_baseline = df_sample_epoch_baseline[[\"latDeg\",\"lngDeg\"]].to_numpy().transpose()\n",
        "print(\"Weighted Least Square (baseline) haversine distance (M):\", calc_haversine(*deg_gt, *deg_baseline))\n",
        "print(\"Weighted Least Square haversine distance (M):\", calc_haversine(*deg_gt, *ecef2lla(*x[:3])[:2]))"
      ],
      "id": "crucial-translation",
      "execution_count": null,
      "outputs": [
        {
          "output_type": "stream",
          "text": [
            "Weighted Least Square (baseline) haversine distance (M): [2.74590055]\n",
            "Weighted Least Square haversine distance (M): [[32.98570796]]\n"
          ],
          "name": "stdout"
        }
      ]
    },
    {
      "cell_type": "markdown",
      "metadata": {
        "papermill": {
          "duration": 0.02436,
          "end_time": "2021-05-27T20:41:20.639648",
          "exception": false,
          "start_time": "2021-05-27T20:41:20.615288",
          "status": "completed"
        },
        "tags": [],
        "id": "supreme-nowhere"
      },
      "source": [
        "### Evaluate in whole training"
      ],
      "id": "supreme-nowhere"
    },
    {
      "cell_type": "code",
      "metadata": {
        "execution": {
          "iopub.execute_input": "2021-05-27T20:41:20.701660Z",
          "iopub.status.busy": "2021-05-27T20:41:20.700933Z",
          "iopub.status.idle": "2021-05-27T20:41:20.703975Z",
          "shell.execute_reply": "2021-05-27T20:41:20.704465Z",
          "shell.execute_reply.started": "2021-05-26T00:31:44.017384Z"
        },
        "papermill": {
          "duration": 0.038326,
          "end_time": "2021-05-27T20:41:20.704657",
          "exception": false,
          "start_time": "2021-05-27T20:41:20.666331",
          "status": "completed"
        },
        "tags": [],
        "id": "lonely-cornell"
      },
      "source": [
        "def simple_pipeline(df_trails):\n",
        "  \"\"\" simple pipeline to estimate the GNSS receiver location by least square\n",
        "  Args:\n",
        "    df_trails: the df read from derived file\n",
        "  \n",
        "  Returns:\n",
        "    result df with estimated degrees and heights\n",
        "  \"\"\"\n",
        "  df_trails[\"correctedPrM\"] = df_trails[\"rawPrM\"] + df_trails[\"satClkBiasM\"] - df_trails[\"isrbM\"] - df_trails[\"ionoDelayM\"] - df_trails[\"tropoDelayM\"]\n",
        "  \n",
        "  results = []\n",
        "  x = [0, 0, 0, 0]\n",
        "  df_epochs = df_trails.groupby([\"collectionName\", \"phoneName\", \"millisSinceGpsEpoch\"])\n",
        "  for indices, df_epoch in tqdm(df_epochs, desc=\"Estimate location by LS for epoch\"):\n",
        "    sat_pos = df_epoch[[\"xSatPosM\",\"ySatPosM\",\"zSatPosM\"]].to_numpy()\n",
        "    pseudoranges = np.squeeze(df_epoch[[\"correctedPrM\"]].to_numpy())\n",
        "    pseudoranges_sigma = np.squeeze(df_epoch[[\"rawPrUncM\"]].to_numpy())\n",
        "    x, _ = calc_pos_fix(sat_pos, pseudoranges, 1/pseudoranges_sigma, x)\n",
        "    # x, _ = calc_pos_fix(sat_pos, pseudoranges, 1, x)\n",
        "    values = np.squeeze(ecef2lla(*x[:3]))\n",
        "    results.append([*indices, *values])\n",
        "  return pd.DataFrame(results,columns=[\"collectionName\", \"phoneName\", \"millisSinceGpsEpoch\", \"latDeg\", \"lngDeg\", \"heightAboveWgs84EllipsoidM\"])"
      ],
      "id": "lonely-cornell",
      "execution_count": null,
      "outputs": []
    },
    {
      "cell_type": "code",
      "metadata": {
        "execution": {
          "iopub.execute_input": "2021-05-27T20:41:20.762612Z",
          "iopub.status.busy": "2021-05-27T20:41:20.761582Z",
          "iopub.status.idle": "2021-05-27T20:41:44.446626Z",
          "shell.execute_reply": "2021-05-27T20:41:44.447219Z",
          "shell.execute_reply.started": "2021-05-26T00:31:44.029965Z"
        },
        "papermill": {
          "duration": 23.718132,
          "end_time": "2021-05-27T20:41:44.447409",
          "exception": false,
          "start_time": "2021-05-27T20:41:20.729277",
          "status": "completed"
        },
        "tags": [],
        "id": "infectious-buying",
        "outputId": "722b5d25-72cd-449b-bc0a-67644e5551a8",
        "colab": {
          "referenced_widgets": [
            "c3fd0407f78f42528a28d277e7be7728",
            "5dbbe92a2cf24bcca70388655367e799"
          ]
        }
      },
      "source": [
        "from pathlib import Path\n",
        "# from tqdm import tqdm\n",
        "from tqdm.notebook import tqdm\n",
        "\n",
        "# datapath = Path(\"./data\")\n",
        "ground_truths = (datapath / \"train\").rglob(\"ground_truth.csv\")\n",
        "drived_files = (datapath / \"train\").rglob(\"*_derived.csv\")\n",
        "\n",
        "df_sample_trails_baseline = pd.read_csv(datapath / 'baseline_locations_train.csv')\n",
        "df_sample_trails_gt = pd.concat([pd.read_csv(filepath) for filepath in tqdm(ground_truths, total=73, desc=\"Reading ground truth data\")], ignore_index=True)\n",
        "df_sample_trails = pd.concat([pd.read_csv(filepath) for filepath in tqdm(drived_files, total=73, desc=\"Reading drived data\")], ignore_index=True)"
      ],
      "id": "infectious-buying",
      "execution_count": null,
      "outputs": [
        {
          "output_type": "display_data",
          "data": {
            "application/vnd.jupyter.widget-view+json": {
              "model_id": "c3fd0407f78f42528a28d277e7be7728",
              "version_major": 2,
              "version_minor": 0
            },
            "text/plain": [
              "Reading ground truth data:   0%|          | 0/73 [00:00<?, ?it/s]"
            ]
          },
          "metadata": {
            "tags": []
          }
        },
        {
          "output_type": "display_data",
          "data": {
            "application/vnd.jupyter.widget-view+json": {
              "model_id": "5dbbe92a2cf24bcca70388655367e799",
              "version_major": 2,
              "version_minor": 0
            },
            "text/plain": [
              "Reading drived data:   0%|          | 0/73 [00:00<?, ?it/s]"
            ]
          },
          "metadata": {
            "tags": []
          }
        }
      ]
    },
    {
      "cell_type": "code",
      "metadata": {
        "execution": {
          "iopub.execute_input": "2021-05-27T20:41:44.504648Z",
          "iopub.status.busy": "2021-05-27T20:41:44.503678Z",
          "iopub.status.idle": "2021-05-27T20:41:57.939556Z",
          "shell.execute_reply": "2021-05-27T20:41:57.938790Z"
        },
        "papermill": {
          "duration": 13.465285,
          "end_time": "2021-05-27T20:41:57.939727",
          "exception": false,
          "start_time": "2021-05-27T20:41:44.474442",
          "status": "completed"
        },
        "tags": [],
        "id": "bronze-spending"
      },
      "source": [
        "df_sample_trails_gt[\"receivedSvTimeInGpsNanos\"] = df_sample_trails_gt.millisSinceGpsEpoch*int(1e6)\n",
        "df_sample_trails_raw = df_sample_trails.drop(\"millisSinceGpsEpoch\", axis=1)\n",
        "\n",
        "df_merge = pd.merge_asof(df_sample_trails_raw.sort_values('receivedSvTimeInGpsNanos'), df_sample_trails_gt.sort_values('receivedSvTimeInGpsNanos'), \n",
        "                                           on=\"receivedSvTimeInGpsNanos\", by=[\"collectionName\", \"phoneName\"], direction='nearest',tolerance=int(1e9))\n",
        "df_merge = df_merge.sort_values(by=[\"collectionName\", \"phoneName\", \"millisSinceGpsEpoch\"], ignore_index=True)"
      ],
      "id": "bronze-spending",
      "execution_count": null,
      "outputs": []
    },
    {
      "cell_type": "code",
      "metadata": {
        "execution": {
          "iopub.execute_input": "2021-05-27T20:41:58.007052Z",
          "iopub.status.busy": "2021-05-27T20:41:58.004695Z",
          "iopub.status.idle": "2021-05-27T20:51:31.911454Z",
          "shell.execute_reply": "2021-05-27T20:51:31.911917Z",
          "shell.execute_reply.started": "2021-05-26T00:32:08.390479Z"
        },
        "papermill": {
          "duration": 573.946079,
          "end_time": "2021-05-27T20:51:31.912129",
          "exception": false,
          "start_time": "2021-05-27T20:41:57.966050",
          "status": "completed"
        },
        "tags": [],
        "id": "short-murray",
        "outputId": "f110f578-1ec0-404f-9c16-3ff3e674b3e9",
        "colab": {
          "referenced_widgets": [
            "2264fe29cb314ea7972aa817528f1735"
          ]
        }
      },
      "source": [
        "df_sample_trails_estimate = simple_pipeline(df_merge)"
      ],
      "id": "short-murray",
      "execution_count": null,
      "outputs": [
        {
          "output_type": "display_data",
          "data": {
            "application/vnd.jupyter.widget-view+json": {
              "model_id": "2264fe29cb314ea7972aa817528f1735",
              "version_major": 2,
              "version_minor": 0
            },
            "text/plain": [
              "Estimate location by LS for epoch:   0%|          | 0/130756 [00:00<?, ?it/s]"
            ]
          },
          "metadata": {
            "tags": []
          }
        }
      ]
    },
    {
      "cell_type": "code",
      "metadata": {
        "execution": {
          "iopub.execute_input": "2021-05-27T20:51:31.974056Z",
          "iopub.status.busy": "2021-05-27T20:51:31.972956Z",
          "iopub.status.idle": "2021-05-27T20:51:33.170142Z",
          "shell.execute_reply": "2021-05-27T20:51:33.169322Z",
          "shell.execute_reply.started": "2021-05-26T01:16:44.243694Z"
        },
        "papermill": {
          "duration": 1.23225,
          "end_time": "2021-05-27T20:51:33.170306",
          "exception": false,
          "start_time": "2021-05-27T20:51:31.938056",
          "status": "completed"
        },
        "tags": [],
        "id": "fancy-paint",
        "outputId": "3a9bef65-01d8-4a60-9148-73652b5ca5ad"
      },
      "source": [
        "df_sample_trails_merged_baseline = pd.merge_asof(df_sample_trails_gt.sort_values('millisSinceGpsEpoch'),\n",
        "                                                 df_sample_trails_baseline.sort_values('millisSinceGpsEpoch'), \n",
        "                                                 on=\"millisSinceGpsEpoch\", by=[\"collectionName\", \"phoneName\"], \n",
        "                                                 direction='nearest',tolerance=100000, suffixes=('_truth', '_pred'))\n",
        "df_sample_trails_merged_baseline = df_sample_trails_merged_baseline.sort_values(by=[\"collectionName\", \"phoneName\", \"millisSinceGpsEpoch\"], ignore_index=True)\n",
        "\n",
        "df_sample_trails_merged_SL = pd.merge_asof(df_sample_trails_gt.sort_values('millisSinceGpsEpoch'), \n",
        "                                           df_sample_trails_estimate.sort_values('millisSinceGpsEpoch'), \n",
        "                                           on=\"millisSinceGpsEpoch\", by=[\"collectionName\", \"phoneName\"], \n",
        "                                           direction='nearest',tolerance=100000, suffixes=('_truth', '_pred'))\n",
        "df_sample_trails_merged_SL = df_sample_trails_merged_SL.sort_values(by=[\"collectionName\", \"phoneName\", \"millisSinceGpsEpoch\"], ignore_index=True)\n",
        "\n",
        "compared_cols = [\"latDeg_truth\",\"lngDeg_truth\",\"latDeg_pred\",\"lngDeg_pred\"]\n",
        "print(\"Weighted Least Square (baseline) haversine distance (M):\", calc_haversine(*df_sample_trails_merged_baseline[compared_cols].to_numpy().transpose()).mean())\n",
        "print(\"Weighted Least Square haversine distance (M):\", calc_haversine(*df_sample_trails_merged_SL[compared_cols].to_numpy().transpose()).mean())"
      ],
      "id": "fancy-paint",
      "execution_count": null,
      "outputs": [
        {
          "output_type": "stream",
          "text": [
            "Weighted Least Square (baseline) haversine distance (M): 3.8468483749952074\n",
            "Weighted Least Square haversine distance (M): 30.854244628290758\n"
          ],
          "name": "stdout"
        }
      ]
    },
    {
      "cell_type": "markdown",
      "metadata": {
        "papermill": {
          "duration": 0.025952,
          "end_time": "2021-05-27T20:51:33.222512",
          "exception": false,
          "start_time": "2021-05-27T20:51:33.196560",
          "status": "completed"
        },
        "tags": [],
        "id": "breeding-luther"
      },
      "source": [
        "## Submission\n",
        "\n",
        "It should be noticed that the epoch time in the drived file and submission/baseline file is not same, in this case, we need to merge it to submission format with epoch time tolerant and sort it into suitable output format (based on quick experiment, 100s tolerant can be merged without empty value)."
      ],
      "id": "breeding-luther"
    },
    {
      "cell_type": "code",
      "metadata": {
        "execution": {
          "iopub.execute_input": "2021-05-27T20:51:33.281394Z",
          "iopub.status.busy": "2021-05-27T20:51:33.280471Z",
          "iopub.status.idle": "2021-05-27T20:51:47.471128Z",
          "shell.execute_reply": "2021-05-27T20:51:47.470555Z",
          "shell.execute_reply.started": "2021-05-26T01:16:44.476861Z"
        },
        "papermill": {
          "duration": 14.222486,
          "end_time": "2021-05-27T20:51:47.471288",
          "exception": false,
          "start_time": "2021-05-27T20:51:33.248802",
          "status": "completed"
        },
        "tags": [],
        "id": "competent-national",
        "outputId": "8bd70ce3-bc35-4e47-b0cd-ba93ede162af",
        "colab": {
          "referenced_widgets": [
            "6b7d7234ff0a45b584cf63c87da0bce4"
          ]
        }
      },
      "source": [
        "from pathlib import Path\n",
        "# from tqdm import tqdm\n",
        "from tqdm.notebook import tqdm\n",
        "\n",
        "# datapath = Path(\"./data\")\n",
        "drived_files = (datapath / \"test\").rglob(\"*_derived.csv\")\n",
        "\n",
        "df_sample_trails_baseline = pd.read_csv(datapath / 'baseline_locations_test.csv')\n",
        "df_sample_trails = pd.concat([pd.read_csv(filepath) for filepath in tqdm(drived_files, total=48, desc=\"Reading drived data\")], ignore_index=True)"
      ],
      "id": "competent-national",
      "execution_count": null,
      "outputs": [
        {
          "output_type": "display_data",
          "data": {
            "application/vnd.jupyter.widget-view+json": {
              "model_id": "6b7d7234ff0a45b584cf63c87da0bce4",
              "version_major": 2,
              "version_minor": 0
            },
            "text/plain": [
              "Reading drived data:   0%|          | 0/48 [00:00<?, ?it/s]"
            ]
          },
          "metadata": {
            "tags": []
          }
        }
      ]
    },
    {
      "cell_type": "code",
      "metadata": {
        "execution": {
          "iopub.execute_input": "2021-05-27T20:51:47.534783Z",
          "iopub.status.busy": "2021-05-27T20:51:47.534080Z",
          "iopub.status.idle": "2021-05-27T20:51:55.608972Z",
          "shell.execute_reply": "2021-05-27T20:51:55.608422Z",
          "shell.execute_reply.started": "2021-05-26T01:17:01.583067Z"
        },
        "papermill": {
          "duration": 8.110256,
          "end_time": "2021-05-27T20:51:55.609128",
          "exception": false,
          "start_time": "2021-05-27T20:51:47.498872",
          "status": "completed"
        },
        "tags": [],
        "id": "popular-messaging"
      },
      "source": [
        "df_sample_trails_baseline[\"receivedSvTimeInGpsNanos\"] = df_sample_trails_baseline.millisSinceGpsEpoch*int(1e6)\n",
        "df_sample_trails_raw = df_sample_trails.drop(\"millisSinceGpsEpoch\", axis=1)\n",
        "\n",
        "df_merge = pd.merge_asof(df_sample_trails_raw.sort_values('receivedSvTimeInGpsNanos'), df_sample_trails_baseline.sort_values('receivedSvTimeInGpsNanos'), \n",
        "                                           on=\"receivedSvTimeInGpsNanos\", by=[\"collectionName\", \"phoneName\"], direction='nearest',tolerance=int(1e9))\n",
        "df_merge = df_merge.sort_values(by=[\"collectionName\", \"phoneName\", \"millisSinceGpsEpoch\"], ignore_index=True)"
      ],
      "id": "popular-messaging",
      "execution_count": null,
      "outputs": []
    },
    {
      "cell_type": "code",
      "metadata": {
        "execution": {
          "iopub.execute_input": "2021-05-27T20:51:55.674569Z",
          "iopub.status.busy": "2021-05-27T20:51:55.673334Z",
          "iopub.status.idle": "2021-05-27T20:58:18.665581Z",
          "shell.execute_reply": "2021-05-27T20:58:18.664907Z"
        },
        "papermill": {
          "duration": 383.027699,
          "end_time": "2021-05-27T20:58:18.665729",
          "exception": false,
          "start_time": "2021-05-27T20:51:55.638030",
          "status": "completed"
        },
        "tags": [],
        "id": "abandoned-intent",
        "outputId": "ae49cd28-8dec-4d50-c7ee-3782a6b1ff6f",
        "colab": {
          "referenced_widgets": [
            "946b3813316648a9880e290ac6ab4b56"
          ]
        }
      },
      "source": [
        "df_sample_trails_estimate = simple_pipeline(df_merge)"
      ],
      "id": "abandoned-intent",
      "execution_count": null,
      "outputs": [
        {
          "output_type": "display_data",
          "data": {
            "application/vnd.jupyter.widget-view+json": {
              "model_id": "946b3813316648a9880e290ac6ab4b56",
              "version_major": 2,
              "version_minor": 0
            },
            "text/plain": [
              "Estimate location by LS for epoch:   0%|          | 0/90886 [00:00<?, ?it/s]"
            ]
          },
          "metadata": {
            "tags": []
          }
        }
      ]
    },
    {
      "cell_type": "code",
      "metadata": {
        "execution": {
          "iopub.execute_input": "2021-05-27T20:58:18.731037Z",
          "iopub.status.busy": "2021-05-27T20:58:18.727402Z",
          "iopub.status.idle": "2021-05-27T20:58:19.753072Z",
          "shell.execute_reply": "2021-05-27T20:58:19.752264Z",
          "shell.execute_reply.started": "2021-05-26T01:47:45.434608Z"
        },
        "papermill": {
          "duration": 1.059915,
          "end_time": "2021-05-27T20:58:19.753247",
          "exception": false,
          "start_time": "2021-05-27T20:58:18.693332",
          "status": "completed"
        },
        "tags": [],
        "id": "committed-domestic"
      },
      "source": [
        "df_sample_trails_baseline = df_sample_trails_baseline.drop([\"latDeg\",\"lngDeg\",\"heightAboveWgs84EllipsoidM\"], axis=1)\n",
        "df_sample_trails_merged = pd.merge_asof(df_sample_trails_baseline.sort_values('millisSinceGpsEpoch'), \n",
        "                                        df_sample_trails_estimate.sort_values('millisSinceGpsEpoch'), \n",
        "                                        on=\"millisSinceGpsEpoch\", by=[\"collectionName\", \"phoneName\"], direction='nearest', tolerance=100000)\n",
        "df_sample_trails_merged = df_sample_trails_merged.sort_values(by=[\"phone\", \"millisSinceGpsEpoch\"], ignore_index=True)\n",
        "\n",
        "df_submission = df_sample_trails_merged[[\"phone\", \"millisSinceGpsEpoch\", \"latDeg\", \"lngDeg\"]].copy()\n",
        "df_submission.to_csv('submission.csv', index=False)"
      ],
      "id": "committed-domestic",
      "execution_count": null,
      "outputs": []
    }
  ]
}