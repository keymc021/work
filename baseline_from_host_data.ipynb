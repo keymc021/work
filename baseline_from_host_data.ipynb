{
  "nbformat": 4,
  "nbformat_minor": 5,
  "metadata": {
    "kernelspec": {
      "display_name": "Python 3",
      "language": "python",
      "name": "python3"
    },
    "language_info": {
      "codemirror_mode": {
        "name": "ipython",
        "version": 3
      },
      "file_extension": ".py",
      "mimetype": "text/x-python",
      "name": "python",
      "nbconvert_exporter": "python",
      "pygments_lexer": "ipython3",
      "version": "3.7.10"
    },
    "papermill": {
      "default_parameters": {},
      "duration": 12.355003,
      "end_time": "2021-05-12T21:31:11.375223",
      "environment_variables": {},
      "exception": null,
      "input_path": "__notebook__.ipynb",
      "output_path": "__notebook__.ipynb",
      "parameters": {},
      "start_time": "2021-05-12T21:30:59.020220",
      "version": "2.3.3"
    },
    "widgets": {
      "application/vnd.jupyter.widget-state+json": {}
    },
    "colab": {
      "name": "baseline-from-host-data.ipynb",
      "provenance": [],
      "include_colab_link": true
    }
  },
  "cells": [
    {
      "cell_type": "markdown",
      "metadata": {
        "id": "view-in-github",
        "colab_type": "text"
      },
      "source": [
        "<a href=\"https://colab.research.google.com/github/keymc021/work/blob/master/baseline_from_host_data.ipynb\" target=\"_parent\"><img src=\"https://colab.research.google.com/assets/colab-badge.svg\" alt=\"Open In Colab\"/></a>"
      ]
    },
    {
      "cell_type": "markdown",
      "metadata": {
        "_cell_guid": "b1076dfc-b9ad-4769-8c92-a6c4dae69d19",
        "_uuid": "8f2839f25d086af736a60e9eeb907d3b93b6e0e5",
        "papermill": {
          "duration": 0.008338,
          "end_time": "2021-05-12T21:31:07.122838",
          "exception": false,
          "start_time": "2021-05-12T21:31:07.114500",
          "status": "completed"
        },
        "tags": [],
        "id": "greenhouse-federal"
      },
      "source": [
        "This is a simple submission using the basic estimates provided by the host. After forming the submission I check the logic using the training data, where ground truths are known.\n",
        "\n",
        "## Submission"
      ],
      "id": "greenhouse-federal"
    },
    {
      "cell_type": "code",
      "metadata": {
        "execution": {
          "iopub.execute_input": "2021-05-12T21:31:07.148286Z",
          "iopub.status.busy": "2021-05-12T21:31:07.147329Z",
          "iopub.status.idle": "2021-05-12T21:31:07.150181Z",
          "shell.execute_reply": "2021-05-12T21:31:07.150639Z"
        },
        "papermill": {
          "duration": 0.020554,
          "end_time": "2021-05-12T21:31:07.150941",
          "exception": false,
          "start_time": "2021-05-12T21:31:07.130387",
          "status": "completed"
        },
        "tags": [],
        "id": "radio-appraisal"
      },
      "source": [
        "from pathlib import Path\n",
        "import pandas as pd"
      ],
      "id": "radio-appraisal",
      "execution_count": null,
      "outputs": []
    },
    {
      "cell_type": "code",
      "metadata": {
        "execution": {
          "iopub.execute_input": "2021-05-12T21:31:07.170181Z",
          "iopub.status.busy": "2021-05-12T21:31:07.169205Z",
          "iopub.status.idle": "2021-05-12T21:31:08.081447Z",
          "shell.execute_reply": "2021-05-12T21:31:08.080912Z"
        },
        "papermill": {
          "duration": 0.922976,
          "end_time": "2021-05-12T21:31:08.081607",
          "exception": false,
          "start_time": "2021-05-12T21:31:07.158631",
          "status": "completed"
        },
        "tags": [],
        "id": "ambient-timing"
      },
      "source": [
        "data_path = Path(\"../input/google-smartphone-decimeter-challenge\")\n",
        "test_base = pd.read_csv(\n",
        "    data_path / 'baseline_locations_test.csv')\n",
        "sub = pd.read_csv(\n",
        "    data_path / 'sample_submission.csv')\n",
        "\n",
        "sub.assign(\n",
        "    latDeg = test_base.latDeg,\n",
        "    lngDeg = test_base.lngDeg\n",
        ").to_csv(\n",
        "    'submission.csv', index=False\n",
        ")"
      ],
      "id": "ambient-timing",
      "execution_count": null,
      "outputs": []
    },
    {
      "cell_type": "markdown",
      "metadata": {
        "papermill": {
          "duration": 0.010518,
          "end_time": "2021-05-12T21:31:08.101092",
          "exception": false,
          "start_time": "2021-05-12T21:31:08.090574",
          "status": "completed"
        },
        "tags": [],
        "id": "north-gregory"
      },
      "source": [
        "The above values will score a 7, which I think indicates a mean error (within the 50-95 distribution per phone) of 7 meters.\n",
        "\n",
        "\n",
        "## Training Error"
      ],
      "id": "north-gregory"
    },
    {
      "cell_type": "code",
      "metadata": {
        "execution": {
          "iopub.execute_input": "2021-05-12T21:31:08.126061Z",
          "iopub.status.busy": "2021-05-12T21:31:08.125360Z",
          "iopub.status.idle": "2021-05-12T21:31:08.131723Z",
          "shell.execute_reply": "2021-05-12T21:31:08.131139Z"
        },
        "papermill": {
          "duration": 0.019398,
          "end_time": "2021-05-12T21:31:08.131876",
          "exception": false,
          "start_time": "2021-05-12T21:31:08.112478",
          "status": "completed"
        },
        "tags": [],
        "id": "front-rates"
      },
      "source": [
        "import numpy as np\n",
        "from tqdm.notebook import tqdm"
      ],
      "id": "front-rates",
      "execution_count": null,
      "outputs": []
    },
    {
      "cell_type": "code",
      "metadata": {
        "execution": {
          "iopub.execute_input": "2021-05-12T21:31:08.164601Z",
          "iopub.status.busy": "2021-05-12T21:31:08.163702Z",
          "iopub.status.idle": "2021-05-12T21:31:10.513026Z",
          "shell.execute_reply": "2021-05-12T21:31:10.512268Z"
        },
        "papermill": {
          "duration": 2.369693,
          "end_time": "2021-05-12T21:31:10.513208",
          "exception": false,
          "start_time": "2021-05-12T21:31:08.143515",
          "status": "completed"
        },
        "tags": [],
        "id": "adjustable-agreement",
        "outputId": "b36bf3da-dfad-46fb-8a8e-de36f4e918b9",
        "colab": {
          "referenced_widgets": [
            "a7e261fa5b8b4d41961853c71f63bc4a"
          ]
        }
      },
      "source": [
        "truths = (data_path / 'train').rglob('ground_truth.csv')\n",
        "    # returns a generator\n",
        "\n",
        "df_list = []\n",
        "cols = ['collectionName', 'phoneName', 'millisSinceGpsEpoch', 'latDeg',\n",
        "       'lngDeg']\n",
        "\n",
        "for t in tqdm(truths, total=73):\n",
        "    df_phone = pd.read_csv(t, usecols=cols)  \n",
        "    df_list.append(df_phone)\n",
        "df_truth = pd.concat(df_list, ignore_index=True)\n",
        "\n",
        "df_basepreds = pd.read_csv(data_path / 'baseline_locations_train.csv', usecols=cols)\n",
        "df_all = df_truth.merge(df_basepreds, how='inner', on=cols[:3], suffixes=('_truth', '_basepred'))\n",
        "display(df_all[:5])\n"
      ],
      "id": "adjustable-agreement",
      "execution_count": null,
      "outputs": [
        {
          "output_type": "display_data",
          "data": {
            "application/vnd.jupyter.widget-view+json": {
              "model_id": "a7e261fa5b8b4d41961853c71f63bc4a",
              "version_major": 2,
              "version_minor": 0
            },
            "text/plain": [
              "  0%|          | 0/73 [00:00<?, ?it/s]"
            ]
          },
          "metadata": {
            "tags": []
          }
        },
        {
          "output_type": "display_data",
          "data": {
            "text/html": [
              "<div>\n",
              "<style scoped>\n",
              "    .dataframe tbody tr th:only-of-type {\n",
              "        vertical-align: middle;\n",
              "    }\n",
              "\n",
              "    .dataframe tbody tr th {\n",
              "        vertical-align: top;\n",
              "    }\n",
              "\n",
              "    .dataframe thead th {\n",
              "        text-align: right;\n",
              "    }\n",
              "</style>\n",
              "<table border=\"1\" class=\"dataframe\">\n",
              "  <thead>\n",
              "    <tr style=\"text-align: right;\">\n",
              "      <th></th>\n",
              "      <th>collectionName</th>\n",
              "      <th>phoneName</th>\n",
              "      <th>millisSinceGpsEpoch</th>\n",
              "      <th>latDeg_truth</th>\n",
              "      <th>lngDeg_truth</th>\n",
              "      <th>latDeg_basepred</th>\n",
              "      <th>lngDeg_basepred</th>\n",
              "    </tr>\n",
              "  </thead>\n",
              "  <tbody>\n",
              "    <tr>\n",
              "      <th>0</th>\n",
              "      <td>2020-07-17-US-MTV-1</td>\n",
              "      <td>Mi8</td>\n",
              "      <td>1279059935000</td>\n",
              "      <td>37.428281</td>\n",
              "      <td>-122.072541</td>\n",
              "      <td>37.428288</td>\n",
              "      <td>-122.072583</td>\n",
              "    </tr>\n",
              "    <tr>\n",
              "      <th>1</th>\n",
              "      <td>2020-07-17-US-MTV-1</td>\n",
              "      <td>Mi8</td>\n",
              "      <td>1279059936000</td>\n",
              "      <td>37.428281</td>\n",
              "      <td>-122.072541</td>\n",
              "      <td>37.428271</td>\n",
              "      <td>-122.072521</td>\n",
              "    </tr>\n",
              "    <tr>\n",
              "      <th>2</th>\n",
              "      <td>2020-07-17-US-MTV-1</td>\n",
              "      <td>Mi8</td>\n",
              "      <td>1279059937000</td>\n",
              "      <td>37.428281</td>\n",
              "      <td>-122.072541</td>\n",
              "      <td>37.428234</td>\n",
              "      <td>-122.072572</td>\n",
              "    </tr>\n",
              "    <tr>\n",
              "      <th>3</th>\n",
              "      <td>2020-07-17-US-MTV-1</td>\n",
              "      <td>Mi8</td>\n",
              "      <td>1279059938000</td>\n",
              "      <td>37.428281</td>\n",
              "      <td>-122.072541</td>\n",
              "      <td>37.428260</td>\n",
              "      <td>-122.072544</td>\n",
              "    </tr>\n",
              "    <tr>\n",
              "      <th>4</th>\n",
              "      <td>2020-07-17-US-MTV-1</td>\n",
              "      <td>Mi8</td>\n",
              "      <td>1279059939000</td>\n",
              "      <td>37.428281</td>\n",
              "      <td>-122.072541</td>\n",
              "      <td>37.428266</td>\n",
              "      <td>-122.072531</td>\n",
              "    </tr>\n",
              "  </tbody>\n",
              "</table>\n",
              "</div>"
            ],
            "text/plain": [
              "        collectionName phoneName  millisSinceGpsEpoch  latDeg_truth  \\\n",
              "0  2020-07-17-US-MTV-1       Mi8        1279059935000     37.428281   \n",
              "1  2020-07-17-US-MTV-1       Mi8        1279059936000     37.428281   \n",
              "2  2020-07-17-US-MTV-1       Mi8        1279059937000     37.428281   \n",
              "3  2020-07-17-US-MTV-1       Mi8        1279059938000     37.428281   \n",
              "4  2020-07-17-US-MTV-1       Mi8        1279059939000     37.428281   \n",
              "\n",
              "   lngDeg_truth  latDeg_basepred  lngDeg_basepred  \n",
              "0   -122.072541        37.428288      -122.072583  \n",
              "1   -122.072541        37.428271      -122.072521  \n",
              "2   -122.072541        37.428234      -122.072572  \n",
              "3   -122.072541        37.428260      -122.072544  \n",
              "4   -122.072541        37.428266      -122.072531  "
            ]
          },
          "metadata": {
            "tags": []
          }
        }
      ]
    },
    {
      "cell_type": "code",
      "metadata": {
        "execution": {
          "iopub.execute_input": "2021-05-12T21:31:10.540213Z",
          "iopub.status.busy": "2021-05-12T21:31:10.539198Z",
          "iopub.status.idle": "2021-05-12T21:31:10.542599Z",
          "shell.execute_reply": "2021-05-12T21:31:10.542032Z"
        },
        "papermill": {
          "duration": 0.019774,
          "end_time": "2021-05-12T21:31:10.542759",
          "exception": false,
          "start_time": "2021-05-12T21:31:10.522985",
          "status": "completed"
        },
        "tags": [],
        "id": "cognitive-democracy"
      },
      "source": [
        "def calc_haversine(lat1, lon1, lat2, lon2):\n",
        "    \"\"\"Calculates the great circle distance between two points\n",
        "    on the earth. Inputs are array-like and specified in decimal degrees.\n",
        "    \"\"\"\n",
        "    RADIUS = 6_367_000\n",
        "    lat1, lon1, lat2, lon2 = map(np.radians, [lat1, lon1, lat2, lon2])\n",
        "    dlat = lat2 - lat1\n",
        "    dlon = lon2 - lon1\n",
        "    a = np.sin(dlat/2)**2 + \\\n",
        "        np.cos(lat1) * np.cos(lat2) * np.sin(dlon/2)**2\n",
        "    dist = 2 * RADIUS * np.arcsin(a**0.5)\n",
        "    return dist"
      ],
      "id": "cognitive-democracy",
      "execution_count": null,
      "outputs": []
    },
    {
      "cell_type": "code",
      "metadata": {
        "execution": {
          "iopub.execute_input": "2021-05-12T21:31:10.567135Z",
          "iopub.status.busy": "2021-05-12T21:31:10.566380Z",
          "iopub.status.idle": "2021-05-12T21:31:10.617098Z",
          "shell.execute_reply": "2021-05-12T21:31:10.616342Z"
        },
        "papermill": {
          "duration": 0.065221,
          "end_time": "2021-05-12T21:31:10.617254",
          "exception": false,
          "start_time": "2021-05-12T21:31:10.552033",
          "status": "completed"
        },
        "tags": [],
        "id": "thirty-proof",
        "outputId": "c9a32d46-39f4-4091-c096-24afcb37b505"
      },
      "source": [
        "df_all['dist'] = calc_haversine(df_all.latDeg_truth, df_all.lngDeg_truth, \n",
        "    df_all.latDeg_basepred, df_all.lngDeg_basepred)\n",
        "\n",
        "df_all.dist.mean()\n"
      ],
      "id": "thirty-proof",
      "execution_count": null,
      "outputs": [
        {
          "output_type": "execute_result",
          "data": {
            "text/plain": [
              "3.846848374995207"
            ]
          },
          "metadata": {
            "tags": []
          },
          "execution_count": 6
        }
      ]
    },
    {
      "cell_type": "markdown",
      "metadata": {
        "papermill": {
          "duration": 0.009344,
          "end_time": "2021-05-12T21:31:10.636492",
          "exception": false,
          "start_time": "2021-05-12T21:31:10.627148",
          "status": "completed"
        },
        "tags": [],
        "id": "appropriate-hometown"
      },
      "source": [
        "At a mean error of < 4m, these numbers appear to be good baseline predictions. Note that the actual eval metric would be a bit different due to the distribution clip."
      ],
      "id": "appropriate-hometown"
    },
    {
      "cell_type": "code",
      "metadata": {
        "papermill": {
          "duration": 0.009235,
          "end_time": "2021-05-12T21:31:10.655394",
          "exception": false,
          "start_time": "2021-05-12T21:31:10.646159",
          "status": "completed"
        },
        "tags": [],
        "id": "foreign-panama"
      },
      "source": [
        ""
      ],
      "id": "foreign-panama",
      "execution_count": null,
      "outputs": []
    }
  ]
}